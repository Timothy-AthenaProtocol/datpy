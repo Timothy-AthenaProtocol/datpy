{
 "metadata": {
  "name": "",
  "signature": "sha256:885179e0f57556b18139bb8007c722d9eba383287777bb75c2347051625944d9"
 },
 "nbformat": 3,
 "nbformat_minor": 0,
 "worksheets": [
  {
   "cells": [
    {
     "cell_type": "markdown",
     "metadata": {},
     "source": [
      "# Quickstart with `datpy`\n",
      "\n",
      "This notebook gets you started with `datpy`, the python client for dat. \n",
      "\n",
      "For all of the functionality, read the documentation on the GitHub repository at https://github.com/karissa/datpy\n"
     ]
    },
    {
     "cell_type": "code",
     "collapsed": false,
     "input": [
      "import datpy\n",
      "import os\n",
      "dat = datpy.Dat()"
     ],
     "language": "python",
     "metadata": {},
     "outputs": [],
     "prompt_number": 53
    },
    {
     "cell_type": "markdown",
     "metadata": {},
     "source": [
      "We have some data in the 'examples' folder. Let's create a dat link for it."
     ]
    },
    {
     "cell_type": "code",
     "collapsed": false,
     "input": [
      "os.listdir('examples')"
     ],
     "language": "python",
     "metadata": {},
     "outputs": [
      {
       "metadata": {},
       "output_type": "pyout",
       "prompt_number": 54,
       "text": [
        "['blob.txt', 'contracts.csv', 'kiwi.json']"
       ]
      }
     ],
     "prompt_number": 54
    },
    {
     "cell_type": "code",
     "collapsed": false,
     "input": [
      "fp = open('examples/kiwi.json', 'r')\n",
      "fp.read()"
     ],
     "language": "python",
     "metadata": {},
     "outputs": [
      {
       "metadata": {},
       "output_type": "pyout",
       "prompt_number": 55,
       "text": [
        "'{\"fruit\":\"kiwi\"}'"
       ]
      }
     ],
     "prompt_number": 55
    },
    {
     "cell_type": "code",
     "collapsed": false,
     "input": [
      "link = dat.link('examples')"
     ],
     "language": "python",
     "metadata": {},
     "outputs": [],
     "prompt_number": 56
    },
    {
     "cell_type": "code",
     "collapsed": false,
     "input": [
      "link"
     ],
     "language": "python",
     "metadata": {},
     "outputs": [
      {
       "metadata": {},
       "output_type": "pyout",
       "prompt_number": 57,
       "text": [
        "u'dat://9e991b518925721eb0de1a31df7ca47736c398d18918543d28c63d104fb36a0c'"
       ]
      }
     ],
     "prompt_number": 57
    },
    {
     "cell_type": "markdown",
     "metadata": {},
     "source": [
      "Dat has opened TCP servers that will rehost the data to any peers who connect to the network, that works like BitTorrent. This link can be used to download the data to another location, let's say, the `data` folder.  To share with users on other networks, you may need to open port 3282. \n"
     ]
    },
    {
     "cell_type": "code",
     "collapsed": false,
     "input": [
      "dat.download(link, 'data')"
     ],
     "language": "python",
     "metadata": {},
     "outputs": [
      {
       "metadata": {},
       "output_type": "pyout",
       "prompt_number": 58,
       "text": [
        "True"
       ]
      }
     ],
     "prompt_number": 58
    },
    {
     "cell_type": "markdown",
     "metadata": {},
     "source": [
      "Now, if we look inside the data folder, we will find the same data we had in the `examples` folder. Note that dat downloads the data into a subfolder. "
     ]
    },
    {
     "cell_type": "code",
     "collapsed": false,
     "input": [
      "os.listdir('data/examples')"
     ],
     "language": "python",
     "metadata": {},
     "outputs": [
      {
       "metadata": {},
       "output_type": "pyout",
       "prompt_number": 59,
       "text": [
        "['blob.txt', 'contracts.csv', 'kiwi.json']"
       ]
      }
     ],
     "prompt_number": 59
    },
    {
     "cell_type": "code",
     "collapsed": false,
     "input": [
      "fp = open('data/examples/kiwi.json', 'r')\n",
      "fp.read()"
     ],
     "language": "python",
     "metadata": {},
     "outputs": [
      {
       "metadata": {},
       "output_type": "pyout",
       "prompt_number": 60,
       "text": [
        "'{\"fruit\":\"kiwi\"}'"
       ]
      }
     ],
     "prompt_number": 60
    },
    {
     "cell_type": "markdown",
     "metadata": {},
     "source": [
      "Dat keeps track of all of the subprocesses it opens. They can be closed manually, or will be closed when your python process ends."
     ]
    },
    {
     "cell_type": "code",
     "collapsed": false,
     "input": [
      "dat._opened"
     ],
     "language": "python",
     "metadata": {},
     "outputs": [
      {
       "metadata": {},
       "output_type": "pyout",
       "prompt_number": 61,
       "text": [
        "[<subprocess.Popen at 0x105353ed0>, <subprocess.Popen at 0x105353e90>]"
       ]
      }
     ],
     "prompt_number": 61
    },
    {
     "cell_type": "markdown",
     "metadata": {},
     "source": [
      "Here, we will close them manually."
     ]
    },
    {
     "cell_type": "code",
     "collapsed": false,
     "input": [
      "dat.close()"
     ],
     "language": "python",
     "metadata": {},
     "outputs": [
      {
       "metadata": {},
       "output_type": "pyout",
       "prompt_number": 62,
       "text": [
        "True"
       ]
      }
     ],
     "prompt_number": 62
    },
    {
     "cell_type": "code",
     "collapsed": false,
     "input": [
      "dat._opened"
     ],
     "language": "python",
     "metadata": {},
     "outputs": [
      {
       "metadata": {},
       "output_type": "pyout",
       "prompt_number": 63,
       "text": [
        "[<subprocess.Popen at 0x105353ed0>, <subprocess.Popen at 0x105353e90>]"
       ]
      }
     ],
     "prompt_number": 63
    },
    {
     "cell_type": "code",
     "collapsed": false,
     "input": [],
     "language": "python",
     "metadata": {},
     "outputs": [],
     "prompt_number": 52
    },
    {
     "cell_type": "code",
     "collapsed": false,
     "input": [],
     "language": "python",
     "metadata": {},
     "outputs": []
    }
   ],
   "metadata": {}
  }
 ]
}